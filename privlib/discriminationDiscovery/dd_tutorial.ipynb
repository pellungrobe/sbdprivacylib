{
 "cells": [
  {
   "cell_type": "markdown",
   "metadata": {},
   "source": [
    "<span>\n",
    "<b>Author:</b> <a href=\"http://pages.di.unipi.it/ruggieri/\">Salvatore Ruggieri</a><br/>\n",
    "<b>Python version:</b>  3.x<br/>\n",
    "</span>\n",
    "required modules: <b>pyroaring, pyfim</b>\n",
    "\n",
    "<code>\n",
    "> pip install pyroaring\n",
    "> conda install -c conda-forge pyfim\n",
    "</code>"
   ]
  },
  {
   "cell_type": "code",
   "execution_count": 1,
   "metadata": {},
   "outputs": [],
   "source": [
    "%load_ext autoreload\n",
    "%autoreload 2\n",
    "%matplotlib inline\n",
    "\n",
    "import discrimination_discovery\n",
    "import pandas as pd"
   ]
  },
  {
   "cell_type": "code",
   "execution_count": 3,
   "metadata": {},
   "outputs": [
    {
     "data": {
      "text/html": [
       "<div>\n",
       "<style scoped>\n",
       "    .dataframe tbody tr th:only-of-type {\n",
       "        vertical-align: middle;\n",
       "    }\n",
       "\n",
       "    .dataframe tbody tr th {\n",
       "        vertical-align: top;\n",
       "    }\n",
       "\n",
       "    .dataframe thead th {\n",
       "        text-align: right;\n",
       "    }\n",
       "</style>\n",
       "<table border=\"1\" class=\"dataframe\">\n",
       "  <thead>\n",
       "    <tr style=\"text-align: right;\">\n",
       "      <th></th>\n",
       "      <th>checking_status</th>\n",
       "      <th>duration</th>\n",
       "      <th>credit_history</th>\n",
       "      <th>purpose</th>\n",
       "      <th>credit_amount</th>\n",
       "      <th>savings_status</th>\n",
       "      <th>employment</th>\n",
       "      <th>installment_commitment</th>\n",
       "      <th>personal_status</th>\n",
       "      <th>other_parties</th>\n",
       "      <th>...</th>\n",
       "      <th>property_magnitude</th>\n",
       "      <th>age</th>\n",
       "      <th>other_payment_plans</th>\n",
       "      <th>housing</th>\n",
       "      <th>existing_credits</th>\n",
       "      <th>job</th>\n",
       "      <th>num_dependents</th>\n",
       "      <th>own_telephone</th>\n",
       "      <th>foreign_worker</th>\n",
       "      <th>class</th>\n",
       "    </tr>\n",
       "  </thead>\n",
       "  <tbody>\n",
       "    <tr>\n",
       "      <th>0</th>\n",
       "      <td>lt_0</td>\n",
       "      <td>le_17d6</td>\n",
       "      <td>critical_or_other_existing_credit</td>\n",
       "      <td>radio_or_tv</td>\n",
       "      <td>le_38848d8</td>\n",
       "      <td>no_known_savings</td>\n",
       "      <td>ge_7</td>\n",
       "      <td>gt_2d8</td>\n",
       "      <td>male_single</td>\n",
       "      <td>none</td>\n",
       "      <td>...</td>\n",
       "      <td>real_estate</td>\n",
       "      <td>gt_52d6</td>\n",
       "      <td>none</td>\n",
       "      <td>own</td>\n",
       "      <td>from_1d6_le_2d2</td>\n",
       "      <td>skilled</td>\n",
       "      <td>le_1d2</td>\n",
       "      <td>yes</td>\n",
       "      <td>yes</td>\n",
       "      <td>good</td>\n",
       "    </tr>\n",
       "    <tr>\n",
       "      <th>1</th>\n",
       "      <td>from_0_lt_200</td>\n",
       "      <td>gt_31d2</td>\n",
       "      <td>existing_paid</td>\n",
       "      <td>radio_or_tv</td>\n",
       "      <td>from_38848d8_le_7519d6</td>\n",
       "      <td>lt_100</td>\n",
       "      <td>from_1_lt_4</td>\n",
       "      <td>from_1d6_le_2d2</td>\n",
       "      <td>female_div_or_dep_or_mar</td>\n",
       "      <td>none</td>\n",
       "      <td>...</td>\n",
       "      <td>real_estate</td>\n",
       "      <td>le_30d2</td>\n",
       "      <td>none</td>\n",
       "      <td>own</td>\n",
       "      <td>le_1d6</td>\n",
       "      <td>skilled</td>\n",
       "      <td>le_1d2</td>\n",
       "      <td>none</td>\n",
       "      <td>yes</td>\n",
       "      <td>bad</td>\n",
       "    </tr>\n",
       "    <tr>\n",
       "      <th>2</th>\n",
       "      <td>no_checking</td>\n",
       "      <td>le_17d6</td>\n",
       "      <td>critical_or_other_existing_credit</td>\n",
       "      <td>education</td>\n",
       "      <td>le_38848d8</td>\n",
       "      <td>lt_100</td>\n",
       "      <td>from_4_lt_7</td>\n",
       "      <td>from_1d6_le_2d2</td>\n",
       "      <td>male_single</td>\n",
       "      <td>none</td>\n",
       "      <td>...</td>\n",
       "      <td>real_estate</td>\n",
       "      <td>from_41d4_le_52d6</td>\n",
       "      <td>none</td>\n",
       "      <td>own</td>\n",
       "      <td>le_1d6</td>\n",
       "      <td>unskilled_resident</td>\n",
       "      <td>gt_1d2</td>\n",
       "      <td>none</td>\n",
       "      <td>yes</td>\n",
       "      <td>good</td>\n",
       "    </tr>\n",
       "    <tr>\n",
       "      <th>3</th>\n",
       "      <td>lt_0</td>\n",
       "      <td>gt_31d2</td>\n",
       "      <td>existing_paid</td>\n",
       "      <td>furniture_or_equipment</td>\n",
       "      <td>from_7519d6_le_11154d4</td>\n",
       "      <td>lt_100</td>\n",
       "      <td>from_4_lt_7</td>\n",
       "      <td>from_1d6_le_2d2</td>\n",
       "      <td>male_single</td>\n",
       "      <td>guarantor</td>\n",
       "      <td>...</td>\n",
       "      <td>life_insurance</td>\n",
       "      <td>from_41d4_le_52d6</td>\n",
       "      <td>none</td>\n",
       "      <td>for_free</td>\n",
       "      <td>le_1d6</td>\n",
       "      <td>skilled</td>\n",
       "      <td>gt_1d2</td>\n",
       "      <td>none</td>\n",
       "      <td>yes</td>\n",
       "      <td>good</td>\n",
       "    </tr>\n",
       "    <tr>\n",
       "      <th>4</th>\n",
       "      <td>lt_0</td>\n",
       "      <td>from_17d6_le_31d2</td>\n",
       "      <td>delayed_previously</td>\n",
       "      <td>new_car</td>\n",
       "      <td>from_38848d8_le_7519d6</td>\n",
       "      <td>lt_100</td>\n",
       "      <td>from_1_lt_4</td>\n",
       "      <td>gt_2d8</td>\n",
       "      <td>male_single</td>\n",
       "      <td>none</td>\n",
       "      <td>...</td>\n",
       "      <td>no_known_property</td>\n",
       "      <td>gt_52d6</td>\n",
       "      <td>none</td>\n",
       "      <td>for_free</td>\n",
       "      <td>from_1d6_le_2d2</td>\n",
       "      <td>skilled</td>\n",
       "      <td>gt_1d2</td>\n",
       "      <td>none</td>\n",
       "      <td>yes</td>\n",
       "      <td>bad</td>\n",
       "    </tr>\n",
       "  </tbody>\n",
       "</table>\n",
       "<p>5 rows × 21 columns</p>\n",
       "</div>"
      ],
      "text/plain": [
       "  checking_status           duration                     credit_history  \\\n",
       "0            lt_0            le_17d6  critical_or_other_existing_credit   \n",
       "1   from_0_lt_200            gt_31d2                      existing_paid   \n",
       "2     no_checking            le_17d6  critical_or_other_existing_credit   \n",
       "3            lt_0            gt_31d2                      existing_paid   \n",
       "4            lt_0  from_17d6_le_31d2                 delayed_previously   \n",
       "\n",
       "                  purpose           credit_amount    savings_status  \\\n",
       "0             radio_or_tv              le_38848d8  no_known_savings   \n",
       "1             radio_or_tv  from_38848d8_le_7519d6            lt_100   \n",
       "2               education              le_38848d8            lt_100   \n",
       "3  furniture_or_equipment  from_7519d6_le_11154d4            lt_100   \n",
       "4                 new_car  from_38848d8_le_7519d6            lt_100   \n",
       "\n",
       "    employment installment_commitment           personal_status other_parties  \\\n",
       "0         ge_7                 gt_2d8               male_single          none   \n",
       "1  from_1_lt_4        from_1d6_le_2d2  female_div_or_dep_or_mar          none   \n",
       "2  from_4_lt_7        from_1d6_le_2d2               male_single          none   \n",
       "3  from_4_lt_7        from_1d6_le_2d2               male_single     guarantor   \n",
       "4  from_1_lt_4                 gt_2d8               male_single          none   \n",
       "\n",
       "   ... property_magnitude                age other_payment_plans   housing  \\\n",
       "0  ...        real_estate            gt_52d6                none       own   \n",
       "1  ...        real_estate            le_30d2                none       own   \n",
       "2  ...        real_estate  from_41d4_le_52d6                none       own   \n",
       "3  ...     life_insurance  from_41d4_le_52d6                none  for_free   \n",
       "4  ...  no_known_property            gt_52d6                none  for_free   \n",
       "\n",
       "  existing_credits                 job num_dependents own_telephone  \\\n",
       "0  from_1d6_le_2d2             skilled         le_1d2           yes   \n",
       "1           le_1d6             skilled         le_1d2          none   \n",
       "2           le_1d6  unskilled_resident         gt_1d2          none   \n",
       "3           le_1d6             skilled         gt_1d2          none   \n",
       "4  from_1d6_le_2d2             skilled         gt_1d2          none   \n",
       "\n",
       "  foreign_worker class  \n",
       "0            yes  good  \n",
       "1            yes   bad  \n",
       "2            yes  good  \n",
       "3            yes  good  \n",
       "4            yes   bad  \n",
       "\n",
       "[5 rows x 21 columns]"
      ]
     },
     "execution_count": 3,
     "metadata": {},
     "output_type": "execute_result"
    }
   ],
   "source": [
    "# Sample data: credit.csv, adult.csv or any other dataset with discrete columns only.\n",
    "df = pd.read_csv(\"data/credit.csv\", sep=',', na_values='?')\n",
    "df.head()"
   ]
  },
  {
   "cell_type": "code",
   "execution_count": 4,
   "metadata": {},
   "outputs": [],
   "source": [
    "# DD(filename, unprotected item, negative decision)\n",
    "disc = dd.DD(df, 'foreign_worker=no', 'class=bad')"
   ]
  },
  {
   "cell_type": "code",
   "execution_count": 5,
   "metadata": {},
   "outputs": [],
   "source": [
    "# filtering condition: return None to filter out, or measure value\n",
    "# contingency table\n",
    "# =========== dec- ==== dec+ === tot\n",
    "# protected    a         b       n1()\n",
    "# unprotect.   c         d       n2()\n",
    "# ===========  m1()  ====  m2()  === n()\n",
    "def check_rd(ctg):\n",
    "    # at least 20 protected with negative decision and 20 unprotected in total\n",
    "    if ctg.a < 20 or ctg.n2() < 20:\n",
    "        return None\n",
    "    v = ctg.rd()\n",
    "    # risk difference greater than 0.1\n",
    "    return v if v > 0.1 else None"
   ]
  },
  {
   "cell_type": "code",
   "execution_count": 6,
   "metadata": {},
   "outputs": [],
   "source": [
    "# Extract contingency tables: \n",
    "# minSupp = min support of context (negative = absolute, positive = percentage)\n",
    "# maxn = top n contingency tables\n",
    "ctgs = disc.extract(testCond=check_rd, minSupp=-20, maxn=100)"
   ]
  },
  {
   "cell_type": "code",
   "execution_count": 7,
   "metadata": {},
   "outputs": [
    {
     "name": "stdout",
     "output_type": "stream",
     "text": [
      "-----\n",
      "B = purpose=new_car AND own_telephone=none AND credit_amount=le_38848d8\n",
      "                  |class=bad|class=good|   \n",
      "foreign_worker=yes|       49|        54|103\n",
      "foreign_worker=no |        1|        19| 20\n",
      "                  |       50|        73|123\n",
      "RD = 0.425728\n",
      "-----\n",
      "B = purpose=new_car AND own_telephone=none\n",
      "                  |class=bad|class=good|   \n",
      "foreign_worker=yes|       59|        68|127\n",
      "foreign_worker=no |        1|        19| 20\n",
      "                  |       60|        87|147\n",
      "RD = 0.414567\n"
     ]
    }
   ],
   "source": [
    "# print top 2\n",
    "for v, ctg in ctgs[:2]:\n",
    "    disc.print(ctg)\n",
    "    print(\"RD = {:f}\".format(v))"
   ]
  },
  {
   "cell_type": "code",
   "execution_count": 8,
   "metadata": {},
   "outputs": [],
   "source": [
    "# Adult dataset\n",
    "\n",
    "#df = pd.read_csv(\"adult.csv\", sep=',', na_values='?')\n",
    "#disc = dd.DD(df, 'sex=Male', 'class=-50K') \n",
    "# or\n",
    "disc = dd.DD('data/adult_discrete.csv', 'sex=Male', 'class=-50K', na_values='?')"
   ]
  },
  {
   "cell_type": "code",
   "execution_count": 9,
   "metadata": {},
   "outputs": [
    {
     "name": "stdout",
     "output_type": "stream",
     "text": [
      "-----\n",
      "B = hours-per-week=(50.5-inf) AND occupation=Exec-managerial AND fnlwgt=(106068.5-157936.5] AND workclass=Private AND race=White\n",
      "          |class=-50K|class=+50K|   \n",
      "sex=Female|        20|         1| 21\n",
      "sex=Male  |        21|        83|104\n",
      "          |        41|        84|125\n",
      "RD = 0.750458\n",
      "-----\n",
      "B = hours-per-week=(50.5-inf) AND occupation=Exec-managerial AND fnlwgt=(106068.5-157936.5] AND workclass=Private AND capital-gain=(-inf-57]\n",
      "          |class=-50K|class=+50K|   \n",
      "sex=Female|        20|         1| 21\n",
      "sex=Male  |        25|        61| 86\n",
      "          |        45|        62|107\n",
      "RD = 0.661683\n"
     ]
    }
   ],
   "source": [
    "ctgs_rd = disc.extract(testCond=lambda ctg: (None if ctg.a < 20 or ctg.n2() < 20 else ctg.rd()), minSupp=-100, maxn=1000)\n",
    "for v, ctg in ctgs_rd[:2]:\n",
    "    disc.print(ctg)\n",
    "    print(\"RD = {:f}\".format(v))"
   ]
  },
  {
   "cell_type": "code",
   "execution_count": 10,
   "metadata": {},
   "outputs": [
    {
     "name": "stdout",
     "output_type": "stream",
     "text": [
      "-----\n",
      "B = education-num=(13.5-inf) AND occupation=Prof-specialty AND age=(41.5-50.5] AND fnlwgt=(106068.5-157936.5]\n",
      "          |class=-50K|class=+50K|   \n",
      "sex=Female|        30|        15| 45\n",
      "sex=Male  |        14|       102|116\n",
      "          |        44|       117|161\n",
      "RR = 5.523810\n",
      "-----\n",
      "B = education-num=(13.5-inf) AND occupation=Prof-specialty AND age=(41.5-50.5] AND fnlwgt=(106068.5-157936.5] AND race=White AND native-country=United-States\n",
      "          |class=-50K|class=+50K|   \n",
      "sex=Female|        23|        12| 35\n",
      "sex=Male  |        12|        85| 97\n",
      "          |        35|        97|132\n",
      "RR = 5.311905\n"
     ]
    }
   ],
   "source": [
    "ctgs_rr = disc.extract(testCond=lambda ctg: (None if ctg.a < 20 or ctg.n2() < 20 else ctg.rr()), minSupp=-100, maxn=1000)\n",
    "for v, ctg in ctgs_rr[:2]:\n",
    "    disc.print(ctg)\n",
    "    print(\"RR = {:f}\".format(v))"
   ]
  },
  {
   "cell_type": "code",
   "execution_count": 11,
   "metadata": {},
   "outputs": [
    {
     "data": {
      "text/plain": [
       "441"
      ]
     },
     "execution_count": 11,
     "metadata": {},
     "output_type": "execute_result"
    }
   ],
   "source": [
    "# contingency tables in ctgs_rd\n",
    "ct_rd_set = set(ctg[1] for ctg in ctgs_rd)\n",
    "# contingency tables in ctgs_rd\n",
    "ct_rr_set = set(ctg[1] for ctg in ctgs_rr)\n",
    "\n",
    "# how many in both\n",
    "shared = ct_rd_set & ct_rr_set\n",
    "len(shared) "
   ]
  },
  {
   "cell_type": "code",
   "execution_count": 12,
   "metadata": {},
   "outputs": [
    {
     "data": {
      "text/plain": [
       "Text(0, 0.5, 'p2')"
      ]
     },
     "execution_count": 12,
     "metadata": {},
     "output_type": "execute_result"
    },
    {
     "data": {
      "image/png": "[encoded data removed]",
      "text/plain": [
       "<Figure size 432x288 with 1 Axes>"
      ]
     },
     "metadata": {},
     "output_type": "display_data"
    }
   ],
   "source": [
    "# plot p1() vs p2()\n",
    "import matplotlib.pyplot as plt\n",
    "\n",
    "plt.style.use('seaborn-whitegrid')\n",
    "plt.xlim(0.4, 1)\n",
    "plt.ylim(0, 0.6)\n",
    "plt.plot([ctg.p1() for ctg in shared], [ctg.p2() for ctg in shared], '+', color='red', label=r'RR $\\cap$ RD')\n",
    "only_rd = ct_rd_set - shared\n",
    "plt.plot([ctg.p1() for ctg in only_rd], [ctg.p2() for ctg in only_rd], '.', color='blue', label=r'RD \\ RR')\n",
    "only_rr = ct_rr_set - shared\n",
    "plt.plot([ctg.p1() for ctg in only_rr], [ctg.p2() for ctg in only_rr], 'x', color='green', label=r'RR \\ RD')\n",
    "plt.legend()\n",
    "plt.xlabel('p1')\n",
    "plt.ylabel('p2')"
   ]
  },
  {
   "cell_type": "code",
   "execution_count": null,
   "metadata": {},
   "outputs": [],
   "source": []
  }
 ],
 "metadata": {
  "kernelspec": {
   "display_name": "Python 3",
   "language": "python",
   "name": "python3"
  },
  "language_info": {
   "codemirror_mode": {
    "name": "ipython",
    "version": 3
   },
   "file_extension": ".py",
   "mimetype": "text/x-python",
   "name": "python",
   "nbconvert_exporter": "python",
   "pygments_lexer": "ipython3",
   "version": "3.7.10"
  }
 },
 "nbformat": 4,
 "nbformat_minor": 2
}
