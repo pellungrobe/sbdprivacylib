{
 "cells": [
  {
   "cell_type": "code",
   "execution_count": 1,
   "metadata": {
    "ExecuteTime": {
     "end_time": "2023-05-28T20:02:37.838528Z",
     "start_time": "2023-05-28T20:02:36.051256Z"
    }
   },
   "outputs": [],
   "source": [
    "from privlib.riskAssessment.sequentialprivacyframe import SequentialPrivacyFrame as SPF\n",
    "FOLDER = \"data/riskassessment_data/\"\n",
    "GEOLIFE_FILE = \"geolife_privacy.csv\"\n",
    "import pandas as pd"
   ]
  },
  {
   "cell_type": "code",
   "execution_count": 2,
   "metadata": {
    "ExecuteTime": {
     "end_time": "2023-05-28T20:02:37.860271Z",
     "start_time": "2023-05-28T20:02:37.841876Z"
    }
   },
   "outputs": [],
   "source": [
    "df_pd = pd.read_csv(FOLDER+GEOLIFE_FILE)"
   ]
  },
  {
   "cell_type": "code",
   "execution_count": 3,
   "metadata": {
    "ExecuteTime": {
     "end_time": "2023-05-28T20:02:37.867075Z",
     "start_time": "2023-05-28T20:02:37.860512Z"
    }
   },
   "outputs": [
    {
     "data": {
      "text/plain": "                 datetime        lat         lng  uid\n0     2011-10-17 13:43:18  37.068910  114.098359  102\n1     2008-09-14 03:30:59  37.068910  114.098359  103\n2     2008-09-25 13:29:27  37.068910  114.098359  104\n3     2008-10-05 12:39:20  37.068910  114.098359  104\n4     2007-10-05 17:32:24  37.068910  114.098359  105\n...                   ...        ...         ...  ...\n1651  2011-07-28 17:00:04  37.497469  116.818898  168\n1652  2008-10-02 14:42:33  37.476022  116.812658  104\n1653  2008-03-23 10:16:25  37.476022  116.812658  167\n1654  2008-08-07 22:10:37  37.476022  116.812658  167\n1655  2011-07-28 23:07:52  37.476022  116.812658  168\n\n[1656 rows x 4 columns]",
      "text/html": "<div>\n<style scoped>\n    .dataframe tbody tr th:only-of-type {\n        vertical-align: middle;\n    }\n\n    .dataframe tbody tr th {\n        vertical-align: top;\n    }\n\n    .dataframe thead th {\n        text-align: right;\n    }\n</style>\n<table border=\"1\" class=\"dataframe\">\n  <thead>\n    <tr style=\"text-align: right;\">\n      <th></th>\n      <th>datetime</th>\n      <th>lat</th>\n      <th>lng</th>\n      <th>uid</th>\n    </tr>\n  </thead>\n  <tbody>\n    <tr>\n      <th>0</th>\n      <td>2011-10-17 13:43:18</td>\n      <td>37.068910</td>\n      <td>114.098359</td>\n      <td>102</td>\n    </tr>\n    <tr>\n      <th>1</th>\n      <td>2008-09-14 03:30:59</td>\n      <td>37.068910</td>\n      <td>114.098359</td>\n      <td>103</td>\n    </tr>\n    <tr>\n      <th>2</th>\n      <td>2008-09-25 13:29:27</td>\n      <td>37.068910</td>\n      <td>114.098359</td>\n      <td>104</td>\n    </tr>\n    <tr>\n      <th>3</th>\n      <td>2008-10-05 12:39:20</td>\n      <td>37.068910</td>\n      <td>114.098359</td>\n      <td>104</td>\n    </tr>\n    <tr>\n      <th>4</th>\n      <td>2007-10-05 17:32:24</td>\n      <td>37.068910</td>\n      <td>114.098359</td>\n      <td>105</td>\n    </tr>\n    <tr>\n      <th>...</th>\n      <td>...</td>\n      <td>...</td>\n      <td>...</td>\n      <td>...</td>\n    </tr>\n    <tr>\n      <th>1651</th>\n      <td>2011-07-28 17:00:04</td>\n      <td>37.497469</td>\n      <td>116.818898</td>\n      <td>168</td>\n    </tr>\n    <tr>\n      <th>1652</th>\n      <td>2008-10-02 14:42:33</td>\n      <td>37.476022</td>\n      <td>116.812658</td>\n      <td>104</td>\n    </tr>\n    <tr>\n      <th>1653</th>\n      <td>2008-03-23 10:16:25</td>\n      <td>37.476022</td>\n      <td>116.812658</td>\n      <td>167</td>\n    </tr>\n    <tr>\n      <th>1654</th>\n      <td>2008-08-07 22:10:37</td>\n      <td>37.476022</td>\n      <td>116.812658</td>\n      <td>167</td>\n    </tr>\n    <tr>\n      <th>1655</th>\n      <td>2011-07-28 23:07:52</td>\n      <td>37.476022</td>\n      <td>116.812658</td>\n      <td>168</td>\n    </tr>\n  </tbody>\n</table>\n<p>1656 rows × 4 columns</p>\n</div>"
     },
     "execution_count": 3,
     "metadata": {},
     "output_type": "execute_result"
    }
   ],
   "source": [
    "df_pd"
   ]
  },
  {
   "cell_type": "code",
   "execution_count": 4,
   "metadata": {
    "ExecuteTime": {
     "end_time": "2023-05-28T20:02:38.175697Z",
     "start_time": "2023-05-28T20:02:37.875637Z"
    }
   },
   "outputs": [],
   "source": [
    "spf = SPF(df_pd, user_id='uid', datetime='datetime', elements = ['lat','lng'])"
   ]
  },
  {
   "cell_type": "code",
   "execution_count": 5,
   "metadata": {
    "ExecuteTime": {
     "end_time": "2023-05-28T20:02:38.190657Z",
     "start_time": "2023-05-28T20:02:38.175967Z"
    }
   },
   "outputs": [
    {
     "data": {
      "text/plain": "                datetime  uid                                 elements  \\\n0    2011-10-17 13:43:18  102  (37.06890998717948, 114.09835894294868)   \n13   2011-10-18 00:57:15  102  (39.76236187850536, 116.28312259149092)   \n14   2011-10-19 01:16:56  102  (39.76236187850536, 116.28312259149092)   \n914  2011-10-20 22:30:20  102  (39.240474391600486, 116.3822810132606)   \n1166 2011-10-21 14:53:23  102  (37.41968785277778, 114.50723498166666)   \n...                  ...  ...                                      ...   \n1164 2010-06-01 01:52:08  169  (39.240474391600486, 116.3822810132606)   \n1165 2010-06-02 01:57:21  169  (39.240474391600486, 116.3822810132606)   \n1443 2010-06-02 10:39:34  169  (38.94254640337302, 116.31633746398808)   \n1444 2010-06-03 01:23:16  169  (38.94254640337302, 116.31633746398808)   \n913  2010-06-03 11:12:40  169  (39.76236187850536, 116.28312259149092)   \n\n      sequence  order  \n0          102      1  \n13         102      2  \n14         102      3  \n914        102      4  \n1166       102      5  \n...        ...    ...  \n1164       169     36  \n1165       169     37  \n1443       169     38  \n1444       169     39  \n913        169     40  \n\n[1656 rows x 5 columns]",
      "text/html": "<div>\n<style scoped>\n    .dataframe tbody tr th:only-of-type {\n        vertical-align: middle;\n    }\n\n    .dataframe tbody tr th {\n        vertical-align: top;\n    }\n\n    .dataframe thead th {\n        text-align: right;\n    }\n</style>\n<table border=\"1\" class=\"dataframe\">\n  <thead>\n    <tr style=\"text-align: right;\">\n      <th></th>\n      <th>datetime</th>\n      <th>uid</th>\n      <th>elements</th>\n      <th>sequence</th>\n      <th>order</th>\n    </tr>\n  </thead>\n  <tbody>\n    <tr>\n      <th>0</th>\n      <td>2011-10-17 13:43:18</td>\n      <td>102</td>\n      <td>(37.06890998717948, 114.09835894294868)</td>\n      <td>102</td>\n      <td>1</td>\n    </tr>\n    <tr>\n      <th>13</th>\n      <td>2011-10-18 00:57:15</td>\n      <td>102</td>\n      <td>(39.76236187850536, 116.28312259149092)</td>\n      <td>102</td>\n      <td>2</td>\n    </tr>\n    <tr>\n      <th>14</th>\n      <td>2011-10-19 01:16:56</td>\n      <td>102</td>\n      <td>(39.76236187850536, 116.28312259149092)</td>\n      <td>102</td>\n      <td>3</td>\n    </tr>\n    <tr>\n      <th>914</th>\n      <td>2011-10-20 22:30:20</td>\n      <td>102</td>\n      <td>(39.240474391600486, 116.3822810132606)</td>\n      <td>102</td>\n      <td>4</td>\n    </tr>\n    <tr>\n      <th>1166</th>\n      <td>2011-10-21 14:53:23</td>\n      <td>102</td>\n      <td>(37.41968785277778, 114.50723498166666)</td>\n      <td>102</td>\n      <td>5</td>\n    </tr>\n    <tr>\n      <th>...</th>\n      <td>...</td>\n      <td>...</td>\n      <td>...</td>\n      <td>...</td>\n      <td>...</td>\n    </tr>\n    <tr>\n      <th>1164</th>\n      <td>2010-06-01 01:52:08</td>\n      <td>169</td>\n      <td>(39.240474391600486, 116.3822810132606)</td>\n      <td>169</td>\n      <td>36</td>\n    </tr>\n    <tr>\n      <th>1165</th>\n      <td>2010-06-02 01:57:21</td>\n      <td>169</td>\n      <td>(39.240474391600486, 116.3822810132606)</td>\n      <td>169</td>\n      <td>37</td>\n    </tr>\n    <tr>\n      <th>1443</th>\n      <td>2010-06-02 10:39:34</td>\n      <td>169</td>\n      <td>(38.94254640337302, 116.31633746398808)</td>\n      <td>169</td>\n      <td>38</td>\n    </tr>\n    <tr>\n      <th>1444</th>\n      <td>2010-06-03 01:23:16</td>\n      <td>169</td>\n      <td>(38.94254640337302, 116.31633746398808)</td>\n      <td>169</td>\n      <td>39</td>\n    </tr>\n    <tr>\n      <th>913</th>\n      <td>2010-06-03 11:12:40</td>\n      <td>169</td>\n      <td>(39.76236187850536, 116.28312259149092)</td>\n      <td>169</td>\n      <td>40</td>\n    </tr>\n  </tbody>\n</table>\n<p>1656 rows × 5 columns</p>\n</div>"
     },
     "execution_count": 5,
     "metadata": {},
     "output_type": "execute_result"
    }
   ],
   "source": [
    "spf"
   ]
  },
  {
   "cell_type": "code",
   "execution_count": 6,
   "metadata": {
    "ExecuteTime": {
     "end_time": "2023-05-28T20:02:38.249450Z",
     "start_time": "2023-05-28T20:02:38.189815Z"
    }
   },
   "outputs": [],
   "source": [
    "from privlib.riskAssessment import constants\n",
    "from privlib.riskAssessment.sequentialprivacyframe import SequentialPrivacyFrame as SPF\n",
    "import numpy as np\n",
    "import pandas as pd\n",
    "import unittest\n",
    "\n",
    "lat_lons = np.array([[43.8430139, 10.5079940],\n",
    "                     [43.5442700, 10.3261500],\n",
    "                     [43.7085300, 10.4036000],\n",
    "                     [43.7792500, 11.2462600],\n",
    "                     [43.8430139, 10.5079940],\n",
    "                     [43.7085300, 10.4036000],\n",
    "                     [43.8430139, 10.5079940],\n",
    "                     [43.5442700, 10.3261500],\n",
    "                     [43.5442700, 10.3261500],\n",
    "                     [43.7085300, 10.4036000],\n",
    "                     [43.8430139, 10.5079940],\n",
    "                     [43.7792500, 11.2462600],\n",
    "                     [43.7085300, 10.4036000],\n",
    "                     [43.5442700, 10.3261500],\n",
    "                     [43.7792500, 11.2462600],\n",
    "                     [43.7085300, 10.4036000],\n",
    "                     [43.7792500, 11.2462600],\n",
    "                     [43.8430139, 10.5079940],\n",
    "                     [43.8430139, 10.5079940],\n",
    "                     [43.5442700, 10.3261500]])\n",
    "\n",
    "traj = pd.DataFrame(lat_lons, columns=['lat', 'lon'])\n",
    "\n",
    "traj[constants.DATETIME] = pd.to_datetime([\n",
    "    '20110203 8:34:04', '20110203 9:34:04', '20110203 10:34:04', '20110204 10:34:04',\n",
    "    '20110203 8:34:04', '20110203 9:34:04', '20110204 10:34:04', '20110204 11:34:04',\n",
    "    '20110203 8:34:04', '20110203 9:34:04', '20110204 10:34:04', '20110204 11:34:04',\n",
    "    '20110204 10:34:04', '20110204 11:34:04', '20110204 12:34:04',\n",
    "    '20110204 10:34:04', '20110204 11:34:04', '20110205 12:34:04',\n",
    "    '20110204 10:34:04', '20110204 11:34:04'])\n",
    "\n",
    "traj[constants.USER_ID] = [1 for _ in range(4)] + [2 for _ in range(4)] + \\\n",
    "                [3 for _ in range(4)] + [4 for _ in range(3)] + \\\n",
    "                [5 for _ in range(3)] + [6 for _ in range(2)]\n",
    "\n",
    "lat_lons_2 = np.array([[43.8430139, 10.5079940],\n",
    "                       [43.8430139, 10.5079940],\n",
    "                       [43.8430139, 10.5079940],\n",
    "                       [43.8430139, 10.5079940],\n",
    "                       [43.8430139, 10.5079940],\n",
    "                       [43.5442700, 10.3261500],\n",
    "                       [43.5442700, 10.3261500],\n",
    "                       [43.5442700, 10.3261500],\n",
    "                       [43.5442700, 10.3261500],\n",
    "                       [43.7085300, 10.4036000],\n",
    "                       [43.7085300, 10.4036000],\n",
    "\n",
    "                       [43.7792500, 11.2462600],\n",
    "                       [43.8430139, 10.5079940],\n",
    "                       [43.7792500, 11.2462600],\n",
    "                       [43.8430139, 10.5079940],\n",
    "\n",
    "                       [43.8430139, 10.5079940],\n",
    "                       [43.8430139, 10.5079940],\n",
    "                       [43.8430139, 10.5079940],\n",
    "                       [43.8430139, 10.5079940],\n",
    "                       [43.8430139, 10.5079940],\n",
    "                       [43.5442700, 10.3261500],\n",
    "                       [43.5442700, 10.3261500],\n",
    "                       [43.5442700, 10.3261500],\n",
    "                       [43.5442700, 10.3261500],\n",
    "\n",
    "                       [43.8430139, 10.5079940],\n",
    "                       [43.8430139, 10.5079940],\n",
    "                       [43.8430139, 10.5079940],\n",
    "                       [43.8430139, 10.5079940],\n",
    "                       [43.8430139, 10.5079940],\n",
    "                       [43.8430139, 10.5079940],\n",
    "                       [43.7085300, 10.4036000],\n",
    "                       [43.5442700, 10.3261500],\n",
    "                       [43.7085300, 10.4036000],\n",
    "                       [43.5442700, 10.3261500],\n",
    "                       [43.7085300, 10.4036000],\n",
    "                       [43.5442700, 10.3261500]])\n",
    "\n",
    "trj2 = pd.DataFrame(lat_lons_2, columns=['lat', 'lng'])\n",
    "\n",
    "trj2[constants.DATETIME] = pd.to_datetime(['20110203 8:34:04' for _ in range(36)])\n",
    "\n",
    "trj2[constants.USER_ID] = [1 for _ in range(11)] + [2 for _ in range(4)] + \\\n",
    "                [3 for _ in range(9)] + [4 for _ in range(12)]\n",
    "\n",
    "trj2['seq'] = [1 for _ in range(3)] + [2 for _ in range(8)] + [1 for _ in range(2)] + [2 for _ in range(2)] \\\n",
    "                + [1 for _ in range(9)] + [1 for _ in range(4)] + [2 for _ in range(4)] + [3 for _ in range(4)]\n",
    "\n",
    "fist_df = traj\n",
    "second_df = trj2\n",
    "\n",
    "first_instance = traj[:2].values\n",
    "second_instance = pd.concat([trj2[0:1], trj2[3:4]]).values\n"
   ]
  },
  {
   "cell_type": "code",
   "execution_count": 7,
   "outputs": [],
   "source": [
    "fist_sf = SPF(fist_df, user_id='uid', datetime='datetime', elements = ['lat','lon'])"
   ],
   "metadata": {
    "collapsed": false,
    "ExecuteTime": {
     "end_time": "2023-05-28T20:02:38.292640Z",
     "start_time": "2023-05-28T20:02:38.226331Z"
    }
   }
  },
  {
   "cell_type": "code",
   "execution_count": 8,
   "outputs": [],
   "source": [
    "sec_sf = SPF(second_df, user_id='uid', datetime='datetime', elements = ['lat','lng'], sequence_id='seq')"
   ],
   "metadata": {
    "collapsed": false,
    "ExecuteTime": {
     "end_time": "2023-05-28T20:02:38.310774Z",
     "start_time": "2023-05-28T20:02:38.236798Z"
    }
   }
  },
  {
   "cell_type": "code",
   "execution_count": 9,
   "outputs": [],
   "source": [
    "from privlib.riskAssessment.riskevaluators import IndividualSequenceEvaluator, IndividualElementEvaluator, TabularRiskEvaluator\n",
    "import privlib.riskAssessment.attacks as att"
   ],
   "metadata": {
    "collapsed": false,
    "ExecuteTime": {
     "end_time": "2023-05-28T20:02:38.362084Z",
     "start_time": "2023-05-28T20:02:38.253761Z"
    }
   }
  },
  {
   "cell_type": "code",
   "execution_count": 10,
   "outputs": [],
   "source": [
    "iee = IndividualElementEvaluator(sec_sf, att.SequenceAttack, 3)\n",
    "ise = IndividualSequenceEvaluator(sec_sf, att.SequenceAttack, 3)"
   ],
   "metadata": {
    "collapsed": false,
    "ExecuteTime": {
     "end_time": "2023-05-28T20:02:38.363130Z",
     "start_time": "2023-05-28T20:02:38.347498Z"
    }
   }
  },
  {
   "cell_type": "code",
   "execution_count": 11,
   "outputs": [],
   "source": [
    "a = iee.assess_risk()"
   ],
   "metadata": {
    "collapsed": false,
    "ExecuteTime": {
     "end_time": "2023-05-28T20:02:39.911821Z",
     "start_time": "2023-05-28T20:02:38.353353Z"
    }
   }
  },
  {
   "cell_type": "code",
   "execution_count": 12,
   "outputs": [
    {
     "data": {
      "text/plain": "[1.0, 1.0, 0.3333333333333333, 1.0]"
     },
     "execution_count": 12,
     "metadata": {},
     "output_type": "execute_result"
    }
   ],
   "source": [
    "a['risk'].to_list()"
   ],
   "metadata": {
    "collapsed": false,
    "ExecuteTime": {
     "end_time": "2023-05-28T20:02:39.921975Z",
     "start_time": "2023-05-28T20:02:39.914853Z"
    }
   }
  },
  {
   "cell_type": "code",
   "execution_count": 13,
   "outputs": [
    {
     "data": {
      "text/plain": "Risk progress:   0%|          | 0/4 [00:00<?, ?it/s]",
      "application/vnd.jupyter.widget-view+json": {
       "version_major": 2,
       "version_minor": 0,
       "model_id": "8046038624d5477cbfd83c5d4ac42fb2"
      }
     },
     "metadata": {},
     "output_type": "display_data"
    }
   ],
   "source": [
    "b = ise.assess_risk(verbose=True)"
   ],
   "metadata": {
    "collapsed": false,
    "ExecuteTime": {
     "end_time": "2023-05-28T20:02:41.435667Z",
     "start_time": "2023-05-28T20:02:39.922190Z"
    }
   }
  },
  {
   "cell_type": "code",
   "execution_count": 14,
   "outputs": [],
   "source": [
    "from joblib import Parallel, delayed\n",
    "from pandas import DataFrame, read_csv, Series, concat\n",
    "from numpy import array\n",
    "from itertools import combinations"
   ],
   "metadata": {
    "collapsed": false,
    "ExecuteTime": {
     "end_time": "2023-05-28T20:02:41.479607Z",
     "start_time": "2023-05-28T20:02:41.438313Z"
    }
   }
  },
  {
   "cell_type": "code",
   "execution_count": 15,
   "outputs": [],
   "source": [
    "data = {'name': ['ciccio', 'ciccio', 'boh', 'boh', 'ciccio'],\n",
    "        'price': [1200, 150, 1200, 450, 1200],\n",
    "        'mice': ['a', 'b', 'b', 'b', 'a']\n",
    "        }\n",
    "\n",
    "toydf = pd.DataFrame(data)"
   ],
   "metadata": {
    "collapsed": false,
    "ExecuteTime": {
     "end_time": "2023-05-28T20:02:41.485502Z",
     "start_time": "2023-05-28T20:02:41.482822Z"
    }
   }
  },
  {
   "cell_type": "code",
   "execution_count": 16,
   "outputs": [],
   "source": [
    "tre = TabularRiskEvaluator(toydf, att.TabularAttack, 2)"
   ],
   "metadata": {
    "collapsed": false,
    "ExecuteTime": {
     "end_time": "2023-05-28T20:02:41.490189Z",
     "start_time": "2023-05-28T20:02:41.487790Z"
    }
   }
  },
  {
   "cell_type": "code",
   "execution_count": 17,
   "outputs": [
    {
     "name": "stdout",
     "output_type": "stream",
     "text": [
      "0.5\n",
      "0.5\n",
      "0.5\n",
      "1.0\n",
      "1.0\n",
      "1.0\n",
      "1.0\n",
      "0.5\n",
      "1.0\n",
      "1.0\n",
      "0.5\n",
      "1.0\n",
      "0.5\n",
      "0.5\n",
      "0.5\n"
     ]
    }
   ],
   "source": [
    "t = tre.assess_risk(complete=True)"
   ],
   "metadata": {
    "collapsed": false,
    "ExecuteTime": {
     "end_time": "2023-05-28T20:02:41.525376Z",
     "start_time": "2023-05-28T20:02:41.492768Z"
    }
   }
  },
  {
   "cell_type": "code",
   "execution_count": 22,
   "outputs": [
    {
     "data": {
      "text/plain": "   index  risk                            cases  case_risk\n0      0   0.5  ((name, ciccio), (price, 1200))        0.5\n0      0   0.5      ((name, ciccio), (mice, a))        0.5\n0      0   0.5       ((price, 1200), (mice, a))        0.5\n1      1   1.0   ((name, ciccio), (price, 150))        1.0\n1      1   1.0      ((name, ciccio), (mice, b))        1.0\n1      1   1.0        ((price, 150), (mice, b))        1.0\n2      2   1.0     ((name, boh), (price, 1200))        1.0\n2      2   1.0         ((name, boh), (mice, b))        0.5\n2      2   1.0       ((price, 1200), (mice, b))        1.0\n3      3   1.0      ((name, boh), (price, 450))        1.0\n3      3   1.0         ((name, boh), (mice, b))        0.5\n3      3   1.0        ((price, 450), (mice, b))        1.0\n4      4   0.5  ((name, ciccio), (price, 1200))        0.5\n4      4   0.5      ((name, ciccio), (mice, a))        0.5\n4      4   0.5       ((price, 1200), (mice, a))        0.5",
      "text/html": "<div>\n<style scoped>\n    .dataframe tbody tr th:only-of-type {\n        vertical-align: middle;\n    }\n\n    .dataframe tbody tr th {\n        vertical-align: top;\n    }\n\n    .dataframe thead th {\n        text-align: right;\n    }\n</style>\n<table border=\"1\" class=\"dataframe\">\n  <thead>\n    <tr style=\"text-align: right;\">\n      <th></th>\n      <th>index</th>\n      <th>risk</th>\n      <th>cases</th>\n      <th>case_risk</th>\n    </tr>\n  </thead>\n  <tbody>\n    <tr>\n      <th>0</th>\n      <td>0</td>\n      <td>0.5</td>\n      <td>((name, ciccio), (price, 1200))</td>\n      <td>0.5</td>\n    </tr>\n    <tr>\n      <th>0</th>\n      <td>0</td>\n      <td>0.5</td>\n      <td>((name, ciccio), (mice, a))</td>\n      <td>0.5</td>\n    </tr>\n    <tr>\n      <th>0</th>\n      <td>0</td>\n      <td>0.5</td>\n      <td>((price, 1200), (mice, a))</td>\n      <td>0.5</td>\n    </tr>\n    <tr>\n      <th>1</th>\n      <td>1</td>\n      <td>1.0</td>\n      <td>((name, ciccio), (price, 150))</td>\n      <td>1.0</td>\n    </tr>\n    <tr>\n      <th>1</th>\n      <td>1</td>\n      <td>1.0</td>\n      <td>((name, ciccio), (mice, b))</td>\n      <td>1.0</td>\n    </tr>\n    <tr>\n      <th>1</th>\n      <td>1</td>\n      <td>1.0</td>\n      <td>((price, 150), (mice, b))</td>\n      <td>1.0</td>\n    </tr>\n    <tr>\n      <th>2</th>\n      <td>2</td>\n      <td>1.0</td>\n      <td>((name, boh), (price, 1200))</td>\n      <td>1.0</td>\n    </tr>\n    <tr>\n      <th>2</th>\n      <td>2</td>\n      <td>1.0</td>\n      <td>((name, boh), (mice, b))</td>\n      <td>0.5</td>\n    </tr>\n    <tr>\n      <th>2</th>\n      <td>2</td>\n      <td>1.0</td>\n      <td>((price, 1200), (mice, b))</td>\n      <td>1.0</td>\n    </tr>\n    <tr>\n      <th>3</th>\n      <td>3</td>\n      <td>1.0</td>\n      <td>((name, boh), (price, 450))</td>\n      <td>1.0</td>\n    </tr>\n    <tr>\n      <th>3</th>\n      <td>3</td>\n      <td>1.0</td>\n      <td>((name, boh), (mice, b))</td>\n      <td>0.5</td>\n    </tr>\n    <tr>\n      <th>3</th>\n      <td>3</td>\n      <td>1.0</td>\n      <td>((price, 450), (mice, b))</td>\n      <td>1.0</td>\n    </tr>\n    <tr>\n      <th>4</th>\n      <td>4</td>\n      <td>0.5</td>\n      <td>((name, ciccio), (price, 1200))</td>\n      <td>0.5</td>\n    </tr>\n    <tr>\n      <th>4</th>\n      <td>4</td>\n      <td>0.5</td>\n      <td>((name, ciccio), (mice, a))</td>\n      <td>0.5</td>\n    </tr>\n    <tr>\n      <th>4</th>\n      <td>4</td>\n      <td>0.5</td>\n      <td>((price, 1200), (mice, a))</td>\n      <td>0.5</td>\n    </tr>\n  </tbody>\n</table>\n</div>"
     },
     "execution_count": 22,
     "metadata": {},
     "output_type": "execute_result"
    }
   ],
   "source": [
    "t"
   ],
   "metadata": {
    "collapsed": false,
    "ExecuteTime": {
     "end_time": "2023-05-28T20:02:48.253880Z",
     "start_time": "2023-05-28T20:02:48.228607Z"
    }
   }
  },
  {
   "cell_type": "code",
   "execution_count": 19,
   "outputs": [
    {
     "name": "stdout",
     "output_type": "stream",
     "text": [
      "     name  price mice\n",
      "0  ciccio   1200    a\n",
      "1  ciccio    150    b\n",
      "2     boh   1200    b\n",
      "3     boh    450    b\n",
      "4  ciccio   1200    a\n"
     ]
    }
   ],
   "source": [
    "print(toydf)"
   ],
   "metadata": {
    "collapsed": false,
    "ExecuteTime": {
     "end_time": "2023-05-28T20:02:41.569355Z",
     "start_time": "2023-05-28T20:02:41.545682Z"
    }
   }
  },
  {
   "cell_type": "code",
   "execution_count": 20,
   "outputs": [
    {
     "data": {
      "text/plain": "1200"
     },
     "execution_count": 20,
     "metadata": {},
     "output_type": "execute_result"
    }
   ],
   "source": [
    "toydf.iloc[0]['price']"
   ],
   "metadata": {
    "collapsed": false,
    "ExecuteTime": {
     "end_time": "2023-05-28T20:02:41.569760Z",
     "start_time": "2023-05-28T20:02:41.552608Z"
    }
   }
  },
  {
   "cell_type": "code",
   "execution_count": 21,
   "outputs": [
    {
     "ename": "NameError",
     "evalue": "name 'prova' is not defined",
     "output_type": "error",
     "traceback": [
      "\u001B[0;31m---------------------------------------------------------------------------\u001B[0m",
      "\u001B[0;31mNameError\u001B[0m                                 Traceback (most recent call last)",
      "Cell \u001B[0;32mIn[21], line 1\u001B[0m\n\u001B[0;32m----> 1\u001B[0m \u001B[38;5;28;01mfor\u001B[39;00m c \u001B[38;5;129;01min\u001B[39;00m \u001B[43mprova\u001B[49m[\u001B[38;5;241m0\u001B[39m]:\n\u001B[1;32m      2\u001B[0m     mtch \u001B[38;5;241m=\u001B[39m toydf\u001B[38;5;241m.\u001B[39mapply(\u001B[38;5;28;01mlambda\u001B[39;00m x: simple_match(x,c,\u001B[38;5;241m0.1\u001B[39m),axis\u001B[38;5;241m=\u001B[39m\u001B[38;5;241m1\u001B[39m)\n",
      "\u001B[0;31mNameError\u001B[0m: name 'prova' is not defined"
     ]
    }
   ],
   "source": [
    "for c in prova[0]:\n",
    "    mtch = toydf.apply(lambda x: simple_match(x,c,0.1),axis=1)"
   ],
   "metadata": {
    "collapsed": false,
    "ExecuteTime": {
     "end_time": "2023-05-28T20:02:42.386556Z",
     "start_time": "2023-05-28T20:02:41.559636Z"
    }
   }
  },
  {
   "cell_type": "code",
   "execution_count": null,
   "outputs": [],
   "source": [
    "mtch"
   ],
   "metadata": {
    "collapsed": false
   }
  },
  {
   "cell_type": "code",
   "execution_count": null,
   "outputs": [],
   "source": [
    "toydf"
   ],
   "metadata": {
    "collapsed": false
   }
  },
  {
   "cell_type": "code",
   "execution_count": null,
   "outputs": [],
   "source": [
    "ci = \"ci\"\n",
    "mi = 'ci'"
   ],
   "metadata": {
    "collapsed": false
   }
  },
  {
   "cell_type": "code",
   "execution_count": null,
   "outputs": [],
   "source": [
    "ci == mi"
   ],
   "metadata": {
    "collapsed": false
   }
  },
  {
   "cell_type": "code",
   "execution_count": null,
   "outputs": [],
   "source": [
    "toydf.index.isin([0,1,2,3,4,5,6,7])"
   ],
   "metadata": {
    "collapsed": false
   }
  },
  {
   "cell_type": "code",
   "execution_count": null,
   "outputs": [],
   "source": [],
   "metadata": {
    "collapsed": false
   }
  }
 ],
 "metadata": {
  "kernelspec": {
   "display_name": "Python 3 (ipykernel)",
   "language": "python",
   "name": "python3"
  },
  "language_info": {
   "codemirror_mode": {
    "name": "ipython",
    "version": 3
   },
   "file_extension": ".py",
   "mimetype": "text/x-python",
   "name": "python",
   "nbconvert_exporter": "python",
   "pygments_lexer": "ipython3",
   "version": "3.7.16"
  },
  "pycharm": {
   "stem_cell": {
    "cell_type": "raw",
    "metadata": {
     "collapsed": false
    },
    "source": [
     "\n",
     "\n"
    ]
   }
  }
 },
 "nbformat": 4,
 "nbformat_minor": 4
}
