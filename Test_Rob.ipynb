{
 "cells": [
  {
   "cell_type": "code",
   "execution_count": 2,
   "metadata": {
    "ExecuteTime": {
     "end_time": "2023-05-27T18:49:29.882173Z",
     "start_time": "2023-05-27T18:49:29.872682Z"
    }
   },
   "outputs": [],
   "source": [
    "from privlib.riskAssessment.sequentialprivacyframe import SequentialPrivacyFrame as SPF\n",
    "FOLDER = \"data/riskassessment_data/\"\n",
    "GEOLIFE_FILE = \"geolife_privacy.csv\"\n",
    "import pandas as pd"
   ]
  },
  {
   "cell_type": "code",
   "execution_count": 3,
   "metadata": {
    "ExecuteTime": {
     "end_time": "2023-05-27T18:49:31.696215Z",
     "start_time": "2023-05-27T18:49:31.685631Z"
    }
   },
   "outputs": [],
   "source": [
    "df_pd = pd.read_csv(FOLDER+GEOLIFE_FILE)"
   ]
  },
  {
   "cell_type": "code",
   "execution_count": 4,
   "metadata": {
    "ExecuteTime": {
     "end_time": "2023-05-27T18:49:32.038993Z",
     "start_time": "2023-05-27T18:49:32.017556Z"
    }
   },
   "outputs": [
    {
     "data": {
      "text/plain": "                 datetime        lat         lng  uid\n0     2011-10-17 13:43:18  37.068910  114.098359  102\n1     2008-09-14 03:30:59  37.068910  114.098359  103\n2     2008-09-25 13:29:27  37.068910  114.098359  104\n3     2008-10-05 12:39:20  37.068910  114.098359  104\n4     2007-10-05 17:32:24  37.068910  114.098359  105\n...                   ...        ...         ...  ...\n1651  2011-07-28 17:00:04  37.497469  116.818898  168\n1652  2008-10-02 14:42:33  37.476022  116.812658  104\n1653  2008-03-23 10:16:25  37.476022  116.812658  167\n1654  2008-08-07 22:10:37  37.476022  116.812658  167\n1655  2011-07-28 23:07:52  37.476022  116.812658  168\n\n[1656 rows x 4 columns]",
      "text/html": "<div>\n<style scoped>\n    .dataframe tbody tr th:only-of-type {\n        vertical-align: middle;\n    }\n\n    .dataframe tbody tr th {\n        vertical-align: top;\n    }\n\n    .dataframe thead th {\n        text-align: right;\n    }\n</style>\n<table border=\"1\" class=\"dataframe\">\n  <thead>\n    <tr style=\"text-align: right;\">\n      <th></th>\n      <th>datetime</th>\n      <th>lat</th>\n      <th>lng</th>\n      <th>uid</th>\n    </tr>\n  </thead>\n  <tbody>\n    <tr>\n      <th>0</th>\n      <td>2011-10-17 13:43:18</td>\n      <td>37.068910</td>\n      <td>114.098359</td>\n      <td>102</td>\n    </tr>\n    <tr>\n      <th>1</th>\n      <td>2008-09-14 03:30:59</td>\n      <td>37.068910</td>\n      <td>114.098359</td>\n      <td>103</td>\n    </tr>\n    <tr>\n      <th>2</th>\n      <td>2008-09-25 13:29:27</td>\n      <td>37.068910</td>\n      <td>114.098359</td>\n      <td>104</td>\n    </tr>\n    <tr>\n      <th>3</th>\n      <td>2008-10-05 12:39:20</td>\n      <td>37.068910</td>\n      <td>114.098359</td>\n      <td>104</td>\n    </tr>\n    <tr>\n      <th>4</th>\n      <td>2007-10-05 17:32:24</td>\n      <td>37.068910</td>\n      <td>114.098359</td>\n      <td>105</td>\n    </tr>\n    <tr>\n      <th>...</th>\n      <td>...</td>\n      <td>...</td>\n      <td>...</td>\n      <td>...</td>\n    </tr>\n    <tr>\n      <th>1651</th>\n      <td>2011-07-28 17:00:04</td>\n      <td>37.497469</td>\n      <td>116.818898</td>\n      <td>168</td>\n    </tr>\n    <tr>\n      <th>1652</th>\n      <td>2008-10-02 14:42:33</td>\n      <td>37.476022</td>\n      <td>116.812658</td>\n      <td>104</td>\n    </tr>\n    <tr>\n      <th>1653</th>\n      <td>2008-03-23 10:16:25</td>\n      <td>37.476022</td>\n      <td>116.812658</td>\n      <td>167</td>\n    </tr>\n    <tr>\n      <th>1654</th>\n      <td>2008-08-07 22:10:37</td>\n      <td>37.476022</td>\n      <td>116.812658</td>\n      <td>167</td>\n    </tr>\n    <tr>\n      <th>1655</th>\n      <td>2011-07-28 23:07:52</td>\n      <td>37.476022</td>\n      <td>116.812658</td>\n      <td>168</td>\n    </tr>\n  </tbody>\n</table>\n<p>1656 rows × 4 columns</p>\n</div>"
     },
     "execution_count": 4,
     "metadata": {},
     "output_type": "execute_result"
    }
   ],
   "source": [
    "df_pd"
   ]
  },
  {
   "cell_type": "code",
   "execution_count": 5,
   "metadata": {
    "ExecuteTime": {
     "end_time": "2023-05-27T18:49:32.840947Z",
     "start_time": "2023-05-27T18:49:32.519163Z"
    }
   },
   "outputs": [],
   "source": [
    "spf = SPF(df_pd, user_id='uid', datetime='datetime', elements = ['lat','lng'])"
   ]
  },
  {
   "cell_type": "code",
   "execution_count": 6,
   "metadata": {
    "ExecuteTime": {
     "end_time": "2023-05-27T18:49:33.185224Z",
     "start_time": "2023-05-27T18:49:33.153333Z"
    }
   },
   "outputs": [
    {
     "data": {
      "text/plain": "                datetime  uid                                 elements  \\\n0    2011-10-17 13:43:18  102  (37.06890998717948, 114.09835894294868)   \n13   2011-10-18 00:57:15  102  (39.76236187850536, 116.28312259149092)   \n14   2011-10-19 01:16:56  102  (39.76236187850536, 116.28312259149092)   \n914  2011-10-20 22:30:20  102  (39.240474391600486, 116.3822810132606)   \n1166 2011-10-21 14:53:23  102  (37.41968785277778, 114.50723498166666)   \n...                  ...  ...                                      ...   \n1164 2010-06-01 01:52:08  169  (39.240474391600486, 116.3822810132606)   \n1165 2010-06-02 01:57:21  169  (39.240474391600486, 116.3822810132606)   \n1443 2010-06-02 10:39:34  169  (38.94254640337302, 116.31633746398808)   \n1444 2010-06-03 01:23:16  169  (38.94254640337302, 116.31633746398808)   \n913  2010-06-03 11:12:40  169  (39.76236187850536, 116.28312259149092)   \n\n      sequence  order  \n0          102      1  \n13         102      2  \n14         102      3  \n914        102      4  \n1166       102      5  \n...        ...    ...  \n1164       169     36  \n1165       169     37  \n1443       169     38  \n1444       169     39  \n913        169     40  \n\n[1656 rows x 5 columns]",
      "text/html": "<div>\n<style scoped>\n    .dataframe tbody tr th:only-of-type {\n        vertical-align: middle;\n    }\n\n    .dataframe tbody tr th {\n        vertical-align: top;\n    }\n\n    .dataframe thead th {\n        text-align: right;\n    }\n</style>\n<table border=\"1\" class=\"dataframe\">\n  <thead>\n    <tr style=\"text-align: right;\">\n      <th></th>\n      <th>datetime</th>\n      <th>uid</th>\n      <th>elements</th>\n      <th>sequence</th>\n      <th>order</th>\n    </tr>\n  </thead>\n  <tbody>\n    <tr>\n      <th>0</th>\n      <td>2011-10-17 13:43:18</td>\n      <td>102</td>\n      <td>(37.06890998717948, 114.09835894294868)</td>\n      <td>102</td>\n      <td>1</td>\n    </tr>\n    <tr>\n      <th>13</th>\n      <td>2011-10-18 00:57:15</td>\n      <td>102</td>\n      <td>(39.76236187850536, 116.28312259149092)</td>\n      <td>102</td>\n      <td>2</td>\n    </tr>\n    <tr>\n      <th>14</th>\n      <td>2011-10-19 01:16:56</td>\n      <td>102</td>\n      <td>(39.76236187850536, 116.28312259149092)</td>\n      <td>102</td>\n      <td>3</td>\n    </tr>\n    <tr>\n      <th>914</th>\n      <td>2011-10-20 22:30:20</td>\n      <td>102</td>\n      <td>(39.240474391600486, 116.3822810132606)</td>\n      <td>102</td>\n      <td>4</td>\n    </tr>\n    <tr>\n      <th>1166</th>\n      <td>2011-10-21 14:53:23</td>\n      <td>102</td>\n      <td>(37.41968785277778, 114.50723498166666)</td>\n      <td>102</td>\n      <td>5</td>\n    </tr>\n    <tr>\n      <th>...</th>\n      <td>...</td>\n      <td>...</td>\n      <td>...</td>\n      <td>...</td>\n      <td>...</td>\n    </tr>\n    <tr>\n      <th>1164</th>\n      <td>2010-06-01 01:52:08</td>\n      <td>169</td>\n      <td>(39.240474391600486, 116.3822810132606)</td>\n      <td>169</td>\n      <td>36</td>\n    </tr>\n    <tr>\n      <th>1165</th>\n      <td>2010-06-02 01:57:21</td>\n      <td>169</td>\n      <td>(39.240474391600486, 116.3822810132606)</td>\n      <td>169</td>\n      <td>37</td>\n    </tr>\n    <tr>\n      <th>1443</th>\n      <td>2010-06-02 10:39:34</td>\n      <td>169</td>\n      <td>(38.94254640337302, 116.31633746398808)</td>\n      <td>169</td>\n      <td>38</td>\n    </tr>\n    <tr>\n      <th>1444</th>\n      <td>2010-06-03 01:23:16</td>\n      <td>169</td>\n      <td>(38.94254640337302, 116.31633746398808)</td>\n      <td>169</td>\n      <td>39</td>\n    </tr>\n    <tr>\n      <th>913</th>\n      <td>2010-06-03 11:12:40</td>\n      <td>169</td>\n      <td>(39.76236187850536, 116.28312259149092)</td>\n      <td>169</td>\n      <td>40</td>\n    </tr>\n  </tbody>\n</table>\n<p>1656 rows × 5 columns</p>\n</div>"
     },
     "execution_count": 6,
     "metadata": {},
     "output_type": "execute_result"
    }
   ],
   "source": [
    "spf"
   ]
  },
  {
   "cell_type": "code",
   "execution_count": 7,
   "metadata": {
    "ExecuteTime": {
     "end_time": "2023-05-27T18:49:34.186339Z",
     "start_time": "2023-05-27T18:49:34.178677Z"
    }
   },
   "outputs": [],
   "source": [
    "from privlib.riskAssessment import constants\n",
    "from privlib.riskAssessment.sequentialprivacyframe import SequentialPrivacyFrame as SPF\n",
    "import numpy as np\n",
    "import pandas as pd\n",
    "import unittest\n",
    "\n",
    "lat_lons = np.array([[43.8430139, 10.5079940],\n",
    "                     [43.5442700, 10.3261500],\n",
    "                     [43.7085300, 10.4036000],\n",
    "                     [43.7792500, 11.2462600],\n",
    "                     [43.8430139, 10.5079940],\n",
    "                     [43.7085300, 10.4036000],\n",
    "                     [43.8430139, 10.5079940],\n",
    "                     [43.5442700, 10.3261500],\n",
    "                     [43.5442700, 10.3261500],\n",
    "                     [43.7085300, 10.4036000],\n",
    "                     [43.8430139, 10.5079940],\n",
    "                     [43.7792500, 11.2462600],\n",
    "                     [43.7085300, 10.4036000],\n",
    "                     [43.5442700, 10.3261500],\n",
    "                     [43.7792500, 11.2462600],\n",
    "                     [43.7085300, 10.4036000],\n",
    "                     [43.7792500, 11.2462600],\n",
    "                     [43.8430139, 10.5079940],\n",
    "                     [43.8430139, 10.5079940],\n",
    "                     [43.5442700, 10.3261500]])\n",
    "\n",
    "traj = pd.DataFrame(lat_lons, columns=['lat', 'lon'])\n",
    "\n",
    "traj[constants.DATETIME] = pd.to_datetime([\n",
    "    '20110203 8:34:04', '20110203 9:34:04', '20110203 10:34:04', '20110204 10:34:04',\n",
    "    '20110203 8:34:04', '20110203 9:34:04', '20110204 10:34:04', '20110204 11:34:04',\n",
    "    '20110203 8:34:04', '20110203 9:34:04', '20110204 10:34:04', '20110204 11:34:04',\n",
    "    '20110204 10:34:04', '20110204 11:34:04', '20110204 12:34:04',\n",
    "    '20110204 10:34:04', '20110204 11:34:04', '20110205 12:34:04',\n",
    "    '20110204 10:34:04', '20110204 11:34:04'])\n",
    "\n",
    "traj[constants.USER_ID] = [1 for _ in range(4)] + [2 for _ in range(4)] + \\\n",
    "                [3 for _ in range(4)] + [4 for _ in range(3)] + \\\n",
    "                [5 for _ in range(3)] + [6 for _ in range(2)]\n",
    "\n",
    "lat_lons_2 = np.array([[43.8430139, 10.5079940],\n",
    "                       [43.8430139, 10.5079940],\n",
    "                       [43.8430139, 10.5079940],\n",
    "                       [43.8430139, 10.5079940],\n",
    "                       [43.8430139, 10.5079940],\n",
    "                       [43.5442700, 10.3261500],\n",
    "                       [43.5442700, 10.3261500],\n",
    "                       [43.5442700, 10.3261500],\n",
    "                       [43.5442700, 10.3261500],\n",
    "                       [43.7085300, 10.4036000],\n",
    "                       [43.7085300, 10.4036000],\n",
    "\n",
    "                       [43.7792500, 11.2462600],\n",
    "                       [43.8430139, 10.5079940],\n",
    "                       [43.7792500, 11.2462600],\n",
    "                       [43.8430139, 10.5079940],\n",
    "\n",
    "                       [43.8430139, 10.5079940],\n",
    "                       [43.8430139, 10.5079940],\n",
    "                       [43.8430139, 10.5079940],\n",
    "                       [43.8430139, 10.5079940],\n",
    "                       [43.8430139, 10.5079940],\n",
    "                       [43.5442700, 10.3261500],\n",
    "                       [43.5442700, 10.3261500],\n",
    "                       [43.5442700, 10.3261500],\n",
    "                       [43.5442700, 10.3261500],\n",
    "\n",
    "                       [43.8430139, 10.5079940],\n",
    "                       [43.8430139, 10.5079940],\n",
    "                       [43.8430139, 10.5079940],\n",
    "                       [43.8430139, 10.5079940],\n",
    "                       [43.8430139, 10.5079940],\n",
    "                       [43.8430139, 10.5079940],\n",
    "                       [43.7085300, 10.4036000],\n",
    "                       [43.5442700, 10.3261500],\n",
    "                       [43.7085300, 10.4036000],\n",
    "                       [43.5442700, 10.3261500],\n",
    "                       [43.7085300, 10.4036000],\n",
    "                       [43.5442700, 10.3261500]])\n",
    "\n",
    "trj2 = pd.DataFrame(lat_lons_2, columns=['lat', 'lng'])\n",
    "\n",
    "trj2[constants.DATETIME] = pd.to_datetime(['20110203 8:34:04' for _ in range(36)])\n",
    "\n",
    "trj2[constants.USER_ID] = [1 for _ in range(11)] + [2 for _ in range(4)] + \\\n",
    "                [3 for _ in range(9)] + [4 for _ in range(12)]\n",
    "\n",
    "fist_df = traj\n",
    "second_df = trj2\n",
    "\n",
    "first_instance = traj[:2].values\n",
    "second_instance = pd.concat([traj[0:1], traj[3:4]]).values\n"
   ]
  },
  {
   "cell_type": "code",
   "execution_count": 11,
   "outputs": [],
   "source": [
    "fist_sf = SPF(fist_df, user_id='uid', datetime='datetime', elements = ['lat','lon'])"
   ],
   "metadata": {
    "collapsed": false,
    "ExecuteTime": {
     "end_time": "2023-05-27T18:50:33.111250Z",
     "start_time": "2023-05-27T18:50:33.096916Z"
    }
   }
  },
  {
   "cell_type": "code",
   "execution_count": 13,
   "outputs": [
    {
     "data": {
      "text/plain": "              datetime  uid                 elements  sequence  order\n0  2011-02-03 08:34:04    1  (43.8430139, 10.507994)         1      1\n1  2011-02-03 09:34:04    1     (43.54427, 10.32615)         1      2\n2  2011-02-03 10:34:04    1      (43.70853, 10.4036)         1      3\n3  2011-02-04 10:34:04    1     (43.77925, 11.24626)         1      4\n4  2011-02-03 08:34:04    2  (43.8430139, 10.507994)         2      1\n5  2011-02-03 09:34:04    2      (43.70853, 10.4036)         2      2\n6  2011-02-04 10:34:04    2  (43.8430139, 10.507994)         2      3\n7  2011-02-04 11:34:04    2     (43.54427, 10.32615)         2      4\n8  2011-02-03 08:34:04    3     (43.54427, 10.32615)         3      1\n9  2011-02-03 09:34:04    3      (43.70853, 10.4036)         3      2\n10 2011-02-04 10:34:04    3  (43.8430139, 10.507994)         3      3\n11 2011-02-04 11:34:04    3     (43.77925, 11.24626)         3      4\n12 2011-02-04 10:34:04    4      (43.70853, 10.4036)         4      1\n13 2011-02-04 11:34:04    4     (43.54427, 10.32615)         4      2\n14 2011-02-04 12:34:04    4     (43.77925, 11.24626)         4      3\n15 2011-02-04 10:34:04    5      (43.70853, 10.4036)         5      1\n16 2011-02-04 11:34:04    5     (43.77925, 11.24626)         5      2\n17 2011-02-05 12:34:04    5  (43.8430139, 10.507994)         5      3\n18 2011-02-04 10:34:04    6  (43.8430139, 10.507994)         6      1\n19 2011-02-04 11:34:04    6     (43.54427, 10.32615)         6      2",
      "text/html": "<div>\n<style scoped>\n    .dataframe tbody tr th:only-of-type {\n        vertical-align: middle;\n    }\n\n    .dataframe tbody tr th {\n        vertical-align: top;\n    }\n\n    .dataframe thead th {\n        text-align: right;\n    }\n</style>\n<table border=\"1\" class=\"dataframe\">\n  <thead>\n    <tr style=\"text-align: right;\">\n      <th></th>\n      <th>datetime</th>\n      <th>uid</th>\n      <th>elements</th>\n      <th>sequence</th>\n      <th>order</th>\n    </tr>\n  </thead>\n  <tbody>\n    <tr>\n      <th>0</th>\n      <td>2011-02-03 08:34:04</td>\n      <td>1</td>\n      <td>(43.8430139, 10.507994)</td>\n      <td>1</td>\n      <td>1</td>\n    </tr>\n    <tr>\n      <th>1</th>\n      <td>2011-02-03 09:34:04</td>\n      <td>1</td>\n      <td>(43.54427, 10.32615)</td>\n      <td>1</td>\n      <td>2</td>\n    </tr>\n    <tr>\n      <th>2</th>\n      <td>2011-02-03 10:34:04</td>\n      <td>1</td>\n      <td>(43.70853, 10.4036)</td>\n      <td>1</td>\n      <td>3</td>\n    </tr>\n    <tr>\n      <th>3</th>\n      <td>2011-02-04 10:34:04</td>\n      <td>1</td>\n      <td>(43.77925, 11.24626)</td>\n      <td>1</td>\n      <td>4</td>\n    </tr>\n    <tr>\n      <th>4</th>\n      <td>2011-02-03 08:34:04</td>\n      <td>2</td>\n      <td>(43.8430139, 10.507994)</td>\n      <td>2</td>\n      <td>1</td>\n    </tr>\n    <tr>\n      <th>5</th>\n      <td>2011-02-03 09:34:04</td>\n      <td>2</td>\n      <td>(43.70853, 10.4036)</td>\n      <td>2</td>\n      <td>2</td>\n    </tr>\n    <tr>\n      <th>6</th>\n      <td>2011-02-04 10:34:04</td>\n      <td>2</td>\n      <td>(43.8430139, 10.507994)</td>\n      <td>2</td>\n      <td>3</td>\n    </tr>\n    <tr>\n      <th>7</th>\n      <td>2011-02-04 11:34:04</td>\n      <td>2</td>\n      <td>(43.54427, 10.32615)</td>\n      <td>2</td>\n      <td>4</td>\n    </tr>\n    <tr>\n      <th>8</th>\n      <td>2011-02-03 08:34:04</td>\n      <td>3</td>\n      <td>(43.54427, 10.32615)</td>\n      <td>3</td>\n      <td>1</td>\n    </tr>\n    <tr>\n      <th>9</th>\n      <td>2011-02-03 09:34:04</td>\n      <td>3</td>\n      <td>(43.70853, 10.4036)</td>\n      <td>3</td>\n      <td>2</td>\n    </tr>\n    <tr>\n      <th>10</th>\n      <td>2011-02-04 10:34:04</td>\n      <td>3</td>\n      <td>(43.8430139, 10.507994)</td>\n      <td>3</td>\n      <td>3</td>\n    </tr>\n    <tr>\n      <th>11</th>\n      <td>2011-02-04 11:34:04</td>\n      <td>3</td>\n      <td>(43.77925, 11.24626)</td>\n      <td>3</td>\n      <td>4</td>\n    </tr>\n    <tr>\n      <th>12</th>\n      <td>2011-02-04 10:34:04</td>\n      <td>4</td>\n      <td>(43.70853, 10.4036)</td>\n      <td>4</td>\n      <td>1</td>\n    </tr>\n    <tr>\n      <th>13</th>\n      <td>2011-02-04 11:34:04</td>\n      <td>4</td>\n      <td>(43.54427, 10.32615)</td>\n      <td>4</td>\n      <td>2</td>\n    </tr>\n    <tr>\n      <th>14</th>\n      <td>2011-02-04 12:34:04</td>\n      <td>4</td>\n      <td>(43.77925, 11.24626)</td>\n      <td>4</td>\n      <td>3</td>\n    </tr>\n    <tr>\n      <th>15</th>\n      <td>2011-02-04 10:34:04</td>\n      <td>5</td>\n      <td>(43.70853, 10.4036)</td>\n      <td>5</td>\n      <td>1</td>\n    </tr>\n    <tr>\n      <th>16</th>\n      <td>2011-02-04 11:34:04</td>\n      <td>5</td>\n      <td>(43.77925, 11.24626)</td>\n      <td>5</td>\n      <td>2</td>\n    </tr>\n    <tr>\n      <th>17</th>\n      <td>2011-02-05 12:34:04</td>\n      <td>5</td>\n      <td>(43.8430139, 10.507994)</td>\n      <td>5</td>\n      <td>3</td>\n    </tr>\n    <tr>\n      <th>18</th>\n      <td>2011-02-04 10:34:04</td>\n      <td>6</td>\n      <td>(43.8430139, 10.507994)</td>\n      <td>6</td>\n      <td>1</td>\n    </tr>\n    <tr>\n      <th>19</th>\n      <td>2011-02-04 11:34:04</td>\n      <td>6</td>\n      <td>(43.54427, 10.32615)</td>\n      <td>6</td>\n      <td>2</td>\n    </tr>\n  </tbody>\n</table>\n</div>"
     },
     "execution_count": 13,
     "metadata": {},
     "output_type": "execute_result"
    }
   ],
   "source": [
    "fist_sf"
   ],
   "metadata": {
    "collapsed": false,
    "ExecuteTime": {
     "end_time": "2023-05-27T18:50:41.440722Z",
     "start_time": "2023-05-27T18:50:41.432441Z"
    }
   }
  },
  {
   "cell_type": "code",
   "execution_count": 16,
   "outputs": [],
   "source": [
    "import privlib.riskAssessment.attacks as at\n",
    "from privlib.riskAssessment.riskevaluators import IndividualSequenceEvaluator, IndividualElementEvaluator"
   ],
   "metadata": {
    "collapsed": false,
    "ExecuteTime": {
     "end_time": "2023-05-27T19:19:25.011189Z",
     "start_time": "2023-05-27T19:19:25.002890Z"
    }
   }
  },
  {
   "cell_type": "code",
   "execution_count": 15,
   "outputs": [],
   "source": [
    "iev = IndividualElementEvaluator()"
   ],
   "metadata": {
    "collapsed": false,
    "ExecuteTime": {
     "end_time": "2023-05-27T18:51:41.856268Z",
     "start_time": "2023-05-27T18:51:41.842997Z"
    }
   }
  },
  {
   "cell_type": "code",
   "execution_count": null,
   "outputs": [],
   "source": [],
   "metadata": {
    "collapsed": false
   }
  }
 ],
 "metadata": {
  "kernelspec": {
   "display_name": "Python 3 (ipykernel)",
   "language": "python",
   "name": "python3"
  },
  "language_info": {
   "codemirror_mode": {
    "name": "ipython",
    "version": 3
   },
   "file_extension": ".py",
   "mimetype": "text/x-python",
   "name": "python",
   "nbconvert_exporter": "python",
   "pygments_lexer": "ipython3",
   "version": "3.7.16"
  },
  "pycharm": {
   "stem_cell": {
    "cell_type": "raw",
    "metadata": {
     "collapsed": false
    },
    "source": [
     "\n",
     "\n"
    ]
   }
  }
 },
 "nbformat": 4,
 "nbformat_minor": 4
}
